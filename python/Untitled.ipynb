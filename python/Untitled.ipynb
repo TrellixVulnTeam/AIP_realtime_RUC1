{
 "cells": [
  {
   "cell_type": "code",
   "execution_count": 12,
   "metadata": {},
   "outputs": [
    {
     "name": "stdout",
     "output_type": "stream",
     "text": [
      "org [1.1 2.1 3.1 4.1]\n",
      "org (pert) [-1.5 -0.5  0.5  1.5]\n",
      "log (pert) [-0.74959897 -0.10297181  0.28649296  0.56607782]\n",
      "log (mean) 0.8449091524337662\n"
     ]
    }
   ],
   "source": [
    "import numpy as np\n",
    "\n",
    "\n",
    "a = np.arange(1,5) + 0.1\n",
    "log = np.log( a )\n",
    "\n",
    "print(\"org\", a )\n",
    "#print(\"log\", log )\n",
    "print(\"org (pert)\", a - np.mean(a) )\n",
    "print(\"log (pert)\", log - np.mean( log ))\n",
    "print(\"log (mean)\", np.mean( log ) )\n",
    "#print(\"log (pert) backed\", np.exp( log - np.mean( log ) ) ) \n",
    "\n",
    "#print( \"exp of log (mean) + log(pert)\", np.exp( log) + np.exp( log - np.mean( log ) ) ) \n"
   ]
  },
  {
   "cell_type": "code",
   "execution_count": null,
   "metadata": {},
   "outputs": [],
   "source": []
  }
 ],
 "metadata": {
  "kernelspec": {
   "display_name": "Python 3",
   "language": "python",
   "name": "python3"
  },
  "language_info": {
   "codemirror_mode": {
    "name": "ipython",
    "version": 3
   },
   "file_extension": ".py",
   "mimetype": "text/x-python",
   "name": "python",
   "nbconvert_exporter": "python",
   "pygments_lexer": "ipython3",
   "version": "3.7.4"
  }
 },
 "nbformat": 4,
 "nbformat_minor": 2
}
