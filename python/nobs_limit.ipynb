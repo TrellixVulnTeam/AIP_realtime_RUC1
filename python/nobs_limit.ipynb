{
 "cells": [
  {
   "cell_type": "code",
   "execution_count": 4,
   "metadata": {},
   "outputs": [
    {
     "name": "stdout",
     "output_type": "stream",
     "text": [
      "(41, 41, 41)\n"
     ]
    }
   ],
   "source": [
    "import numpy as np\n",
    "import sys\n",
    "\n",
    "# Define observation grid interval\n",
    "DX = 0.5\n",
    "DZ = 0.5\n",
    "\n",
    "# Define observation distributions\n",
    "xmax = 10\n",
    "xmin = -xmax\n",
    "ymin = xmin\n",
    "ymax = xmax\n",
    "\n",
    "zmin = xmin\n",
    "zmax = xmax\n",
    "\n",
    "x1d = np.arange( xmin, xmax+DX, DX) \n",
    "y1d = np.arange( ymin, ymax+DX, DX)\n",
    "z1d = np.arange( zmin, zmax+DX, DX)\n",
    "\n",
    "x3d, y3d, z3d = np.meshgrid( x1d, y1d, z1d )\n",
    "\n",
    "print(z3d.shape)"
   ]
  },
  {
   "cell_type": "code",
   "execution_count": 8,
   "metadata": {
    "scrolled": true
   },
   "outputs": [
    {
     "name": "stdout",
     "output_type": "stream",
     "text": [
      "(120,)\n"
     ]
    }
   ],
   "source": [
    "\n",
    "# Target grid\n",
    "cx = 0.1\n",
    "cy = 0.1\n",
    "cz = 0.1\n",
    "\n",
    "dist3d = np.sqrt( np.square( cx - x3d) + np.square( cy - y3d ) + np.square( cz - z3d ) )\n",
    "\n",
    "\n",
    "\n",
    "# localization scale\n",
    "HLOC = 4.0 # km\n",
    "VLOC =  2.0 # km\n",
    "\n",
    "# normalized distance squared\n",
    "ndist3d =  np.square( (cx - x3d)/HLOC ) \\\n",
    "                 + np.square( (cy - y3d)/HLOC ) \\\n",
    "                  + np.square( (cz - z3d)/VLOC ) \n",
    "\n",
    "nrloc3d = np.exp( -0.5*ndist3d )\n",
    "\n",
    "# 1d debug\n",
    "#print( x1d )\n",
    "#print( np.abs( cx - x1d ) )\n",
    "#print( np.floor( np.abs(x1d - cx ) / DX ) )\n",
    "\n",
    "di = np.floor( np.abs( cx - x1d  ) / DX )\n",
    "dj = np.floor( np.abs( cy - y1d  ) / DX )\n",
    "dk = np.floor( np.abs( cz - z1d  ) / DZ )\n",
    "\n",
    "di3d, dj3d, dk3d = np.meshgrid( di, dj, dk )\n",
    "\n",
    "#print(di3d.shape)\n",
    "\n",
    "ngrid_h = 4\n",
    "ngrid_v = 4\n",
    "\n",
    "dist_l = [1.0, 2.0, 3.0, 4.0]\n",
    "dist_l = np.arange( 0.5, 6.5, 0.05)\n",
    "\n",
    "print( dist_l.shape )\n",
    "nobs_l = np.zeros( dist_l.shape)\n",
    "wtot_l = np.zeros( dist_l.shape )\n",
    "\n",
    "nobs_l_thin = np.zeros( dist_l.shape)\n",
    "wtot_l_thin = np.zeros( dist_l.shape )\n",
    "\n",
    "for i, dist in enumerate( dist_l):\n",
    "    nobs = len(dist3d[ dist3d <= dist])\n",
    "    wtot = np.sum( nrloc3d[ dist3d <= dist])\n",
    "    \n",
    "    nobs_l[i] = nobs\n",
    "    wtot_l[i] = wtot\n",
    "\n",
    "    nobs_thin = len(dist3d[ (dist3d <= dist) & \\\n",
    "                         ( di3d % ngrid_h == 0 ) & \\\n",
    "                            ( dj3d % ngrid_h == 0 ) & \\\n",
    "                            ( dk3d % ngrid_v == 0 ) ] )\n",
    "    wtot_thin = np.sum( nrloc3d[ (dist3d <= dist) & \\\n",
    "                              ( di3d % ngrid_h == 0 ) & \\\n",
    "                              ( dj3d % ngrid_h == 0 ) & \\\n",
    "                             ( dk3d % ngrid_v == 0 ) ] )\n",
    "    \n",
    "    nobs_l_thin[i] = nobs_thin\n",
    "    wtot_l_thin[i] = wtot_thin\n",
    "\n",
    "#    print( '\\n3D distance <= {0:.1f} km'.format( dist) )\n",
    "#    print('[Default]   nobs: {0:0=5}, eobs:{1:.1f} '.format( nobs, w_total ) )\n"
   ]
  },
  {
   "cell_type": "code",
   "execution_count": 9,
   "metadata": {
    "scrolled": true
   },
   "outputs": [
    {
     "data": {
      "image/png": "[encoded data removed]",
      "text/plain": [
       "<Figure size 720x360 with 2 Axes>"
      ]
     },
     "metadata": {
      "needs_background": "light"
     },
     "output_type": "display_data"
    }
   ],
   "source": [
    "import matplotlib.pyplot as plt\n",
    "\n",
    "fig, ((ax1, ax2 )) = plt.subplots(1, 2, figsize=( 10, 5))\n",
    "\n",
    "ymin_ = 0\n",
    "ymax_ = 500\n",
    "\n",
    "ymin2_ = 0\n",
    "ymax2_ = 500\n",
    "\n",
    "\n",
    "xmin_ = 0.5\n",
    "xmax_ = 6.0\n",
    "\n",
    "tit_l = [\"Observation Numer\", \"Total Observation Weight\"]\n",
    "\n",
    "ax_l = [ ax1, ax2 ]\n",
    "c_l = [ \"k\", \"r\"]\n",
    "lab_l = [\"Default\", \"New\"]\n",
    "data1_l = [ nobs_l, nobs_l_thin ]\n",
    "data2_l = [ wtot_l, wtot_l_thin ]\n",
    "for i, data in enumerate( data1_l):\n",
    "    \n",
    "    ax1.plot( dist_l, data1_l[i], color=c_l[i], label=lab_l[i],\n",
    "        linestyle='solid', linewidth=2.0,)\n",
    "\n",
    "    \n",
    "    ax2.plot( dist_l, data2_l[i], color=c_l[i], label=lab_l[i],\n",
    "        linestyle='solid', linewidth=2.0,)\n",
    "    \n",
    "    ax1.hlines( y=50, xmin=xmin_, xmax=xmax_, linestyle='dashed',\n",
    "             colors='gray')\n",
    "    ax2.hlines( y=50, xmin=xmin_, xmax=xmax_, linestyle='dashed',\n",
    "             colors='gray')\n",
    "    \n",
    "    ax = ax_l[i]\n",
    "\n",
    "    ax.text( 0.5, 1.08, tit_l[i],\n",
    "                fontsize=15, transform=ax.transAxes,\n",
    "                 horizontalalignment='center',\n",
    "                 verticalalignment='top',\n",
    "                  )\n",
    "\n",
    "\n",
    "\n",
    "ax1.legend( fontsize=12, loc='upper left')\n",
    "ax2.legend( fontsize=12,  loc='upper left')\n",
    "\n",
    "#ax2.plot( wtot_l, dist_l )\n",
    "\n",
    "\n",
    "ax1.set_ylim( ymin_, ymax_)\n",
    "ax2.set_ylim( ymin2_, ymax2_)\n",
    "\n",
    "ax1.set_xlim( xmin_, xmax_)\n",
    "ax2.set_xlim( xmin_, xmax_)\n",
    "\n",
    "xlab = \"3D distance (km)\"\n",
    "\n",
    "ax1.set_xlabel( xlab, fontsize=12)\n",
    "ax2.set_xlabel( xlab, fontsize=12)\n",
    "\n",
    "fig.savefig(\"png/2p_nobs_lim.png\")"
   ]
  },
  {
   "cell_type": "code",
   "execution_count": 4,
   "metadata": {},
   "outputs": [
    {
     "ename": "AttributeError",
     "evalue": "'AxesSubplot' object has no attribute 'set_zlim'",
     "output_type": "error",
     "traceback": [
      "\u001b[0;31m---------------------------------------------------------------------------\u001b[0m",
      "\u001b[0;31mAttributeError\u001b[0m                            Traceback (most recent call last)",
      "\u001b[0;32m<ipython-input-4-5d45fc6c1317>\u001b[0m in \u001b[0;36m<module>\u001b[0;34m\u001b[0m\n\u001b[1;32m     16\u001b[0m \u001b[0max\u001b[0m\u001b[0;34m.\u001b[0m\u001b[0mset_xlim\u001b[0m\u001b[0;34m(\u001b[0m \u001b[0mxmin_\u001b[0m\u001b[0;34m,\u001b[0m \u001b[0mxmax_\u001b[0m\u001b[0;34m)\u001b[0m\u001b[0;34m\u001b[0m\u001b[0;34m\u001b[0m\u001b[0m\n\u001b[1;32m     17\u001b[0m \u001b[0max\u001b[0m\u001b[0;34m.\u001b[0m\u001b[0mset_ylim\u001b[0m\u001b[0;34m(\u001b[0m \u001b[0mymin_\u001b[0m\u001b[0;34m,\u001b[0m \u001b[0mymax_\u001b[0m\u001b[0;34m)\u001b[0m\u001b[0;34m\u001b[0m\u001b[0;34m\u001b[0m\u001b[0m\n\u001b[0;32m---> 18\u001b[0;31m \u001b[0max\u001b[0m\u001b[0;34m.\u001b[0m\u001b[0mset_zlim\u001b[0m\u001b[0;34m(\u001b[0m \u001b[0mzmin_\u001b[0m\u001b[0;34m,\u001b[0m \u001b[0mzmax_\u001b[0m\u001b[0;34m)\u001b[0m\u001b[0;34m\u001b[0m\u001b[0;34m\u001b[0m\u001b[0m\n\u001b[0m\u001b[1;32m     19\u001b[0m \u001b[0;34m\u001b[0m\u001b[0m\n\u001b[1;32m     20\u001b[0m \u001b[0mdist\u001b[0m \u001b[0;34m=\u001b[0m \u001b[0;36m2.0\u001b[0m\u001b[0;34m\u001b[0m\u001b[0;34m\u001b[0m\u001b[0m\n",
      "\u001b[0;31mAttributeError\u001b[0m: 'AxesSubplot' object has no attribute 'set_zlim'"
     ]
    }
   ],
   "source": [
    "import matplotlib.pyplot as plt\n",
    "from mpl_toolkits.mplot3d import Axes3D\n",
    "\n",
    "#fig = plt.figure()\n",
    "#ax = Axes3D(fig)\n",
    "#ax.scatter3D( cx, cy, cz, color='r', s=200.0 ) \n",
    "#ax.scatter3D( np.ravel(x3d), np.ravel(y3d), np.ravel(z3d) ) \n",
    "\n",
    "xmin_ = xmin\n",
    "xmax_ = xmax\n",
    "ymin_ = ymin\n",
    "ymax_ = ymax\n",
    "zmin_ = zmin\n",
    "zmax_ = zmax\n",
    "\n",
    "ax.set_xlim( xmin_, xmax_)\n",
    "ax.set_ylim( ymin_, ymax_)\n",
    "ax.set_zlim( zmin_, zmax_)\n",
    "\n",
    "dist = 2.0\n",
    "xdat = np.ravel( x3d[ dist3d < dist ] )\n",
    "ydat = np.ravel( y3d[ dist3d < dist ] )\n",
    "zdat = np.ravel( z3d[ dist3d < dist ] )\n",
    "#ax.scatter3D( xdat, ydat, zdat, )\n",
    "\n",
    "#for dist in [1.0, 10.0]:\n",
    " #      print( dist, len(dist3d[ dist3d < dist]) )"
   ]
  },
  {
   "cell_type": "code",
   "execution_count": null,
   "metadata": {},
   "outputs": [],
   "source": []
  }
 ],
 "metadata": {
  "kernelspec": {
   "display_name": "Python 3",
   "language": "python",
   "name": "python3"
  },
  "language_info": {
   "codemirror_mode": {
    "name": "ipython",
    "version": 3
   },
   "file_extension": ".py",
   "mimetype": "text/x-python",
   "name": "python",
   "nbconvert_exporter": "python",
   "pygments_lexer": "ipython3",
   "version": "3.7.4"
  }
 },
 "nbformat": 4,
 "nbformat_minor": 2
}
