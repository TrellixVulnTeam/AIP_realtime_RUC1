{
 "cells": [
  {
   "cell_type": "code",
   "execution_count": 1,
   "metadata": {},
   "outputs": [],
   "source": [
    "import numpy as np\n",
    "\n",
    "def x2y( A, B, x):\n",
    "    # A > B\n",
    "    return( np.tan( np.pi*((x - B)/(A-B) - 1/2 ) ) ) \n",
    "\n",
    "def y2x( A, B, y):\n",
    "           return( B + (0.5 + np.arctan(y)/np.pi) * ( A - B) )"
   ]
  },
  {
   "cell_type": "code",
   "execution_count": 2,
   "metadata": {},
   "outputs": [
    {
     "data": {
      "text/plain": [
       "[<matplotlib.lines.Line2D at 0x2aaad4963fd0>]"
      ]
     },
     "execution_count": 2,
     "metadata": {},
     "output_type": "execute_result"
    }
   ],
   "source": [
    "A = 100\n",
    "B = 0\n",
    "\n",
    "#x = 1.0\n",
    "#y = x2y( A, B, x)\n",
    "#print( x, y, y2x( A, B, y) )\n",
    "\n",
    "x = np.arange( 1, 100, 1)\n",
    "y = x2y( A, B, x)\n",
    "\n",
    "import matplotlib.pyplot as plt\n",
    "plt.plot( x, y )"
   ]
  },
  {
   "cell_type": "code",
   "execution_count": 3,
   "metadata": {},
   "outputs": [],
   "source": [
    "# A> B\n",
    "def y2x_k( A, B, y ):\n",
    "    return( 0.5*(A+B) + 0.5 * np.tanh(y)*(A-B) )"
   ]
  },
  {
   "cell_type": "code",
   "execution_count": 4,
   "metadata": {},
   "outputs": [],
   "source": [
    "def x2y_k( A, B, x):\n",
    "    y = x - 0.5*( A + B )\n",
    "    y = 2 * y / (A - B)\n",
    "    return( np.arctanh(y) )"
   ]
  },
  {
   "cell_type": "code",
   "execution_count": 5,
   "metadata": {},
   "outputs": [
    {
     "data": {
      "text/plain": [
       "[<matplotlib.lines.Line2D at 0x2aaad54576d0>]"
      ]
     },
     "execution_count": 5,
     "metadata": {},
     "output_type": "execute_result"
    },
    {
     "data": {
      "image/png": "[encoded data removed]",
      "text/plain": [
       "<Figure size 432x288 with 1 Axes>"
      ]
     },
     "metadata": {
      "needs_background": "light"
     },
     "output_type": "display_data"
    }
   ],
   "source": [
    "A = 100\n",
    "B = 0\n",
    "#y = x2y_k( A, B, x)\n",
    "#print(x, y, y2x_k( A, B, y) )\n",
    "\n",
    "x = np.arange( 1, 100, 1)\n",
    "y = x2y_k( A, B, x)\n",
    "\n",
    "\n",
    "plt.plot( x, y )"
   ]
  },
  {
   "cell_type": "code",
   "execution_count": 6,
   "metadata": {},
   "outputs": [
    {
     "name": "stdout",
     "output_type": "stream",
     "text": [
      "Nielsen-Gammon et al. 2010MWR\n",
      "Linear\n",
      "Spread ratio: 35.9198\n",
      "\n",
      "Kotsuki et al. 2018JGRA\n",
      "Linear\n",
      "Spread ratio: 3.4910\n"
     ]
    }
   ],
   "source": [
    "# Linearity\n",
    "\n",
    "A = 100\n",
    "B = 0\n",
    "\n",
    "x_org = np.arange(1, 100, 10)\n",
    "x_orgp = x_org - np.mean( x_org )\n",
    "\n",
    "#print( x_org )\n",
    "\n",
    "print( \"Nielsen-Gammon et al. 2010MWR\" )\n",
    "y_org = x2y( A, B, x_org )\n",
    "\n",
    "y_orgm = np.mean( y_org )\n",
    "y_orgp = y_org - np.mean( y_org )\n",
    "res = y2x( A, B, y_orgm + y_orgp ) - x_org\n",
    "if res.all() == 0.0:\n",
    "    print( \"Linear\" )\n",
    "\n",
    "xc = np.arange( 40, 61, 1 )\n",
    "xl = np.arange( 1,21,1)\n",
    "yc = x2y( A, B, xc)\n",
    "yl = x2y( A, B, xl)\n",
    "\n",
    "print( \"Spread ratio: {0:.4f}\".format( np.std(yl, ddof=1)/ np.std(yc, ddof=1) ) ) \n",
    "\n",
    "print(\"\")\n",
    "    \n",
    "print( \"Kotsuki et al. 2018JGRA\" )\n",
    "y_org = x2y_k( A, B, x_org )\n",
    "\n",
    "y_orgm = np.mean( y_org )\n",
    "y_orgp = y_org - np.mean( y_org )\n",
    "res = y2x_k( A, B, y_orgm + y_orgp ) - x_org\n",
    "if res.all() == 0.0:\n",
    "    print( \"Linear\" )\n",
    "\n",
    "yc = x2y_k( A, B, xc)\n",
    "yl = x2y_k( A, B, xl)\n",
    "\n",
    "print( \"Spread ratio: {0:.4f}\".format( np.std(yl, ddof=1)/ np.std(yc, ddof=1) ) ) \n"
   ]
  },
  {
   "cell_type": "markdown",
   "metadata": {},
   "source": [
    "$$\n",
    "    \\frac{1}{2}\\log\\frac{1+z_a}{1-z_a} = \\frac{1}{2}\\log\\frac{1+z_b}{1-z_b} + K \\left( \\frac{1}{2}\\log\\frac{1+z_o}{1-z_o} - \\frac{1}{2}\\log\\frac{1+z_b}{1-z_b} \\right) \\\\\n",
    "     \\log\\frac{1+z_a}{1-z_a} = \\log\\frac{1+z_b}{1-z_b} + K \\left( \\log\\frac{1+z_o}{1-z_o} - \\log\\frac{1+z_b}{1-z_b} \\right) \\\\\n",
    "     \\log\\frac{1+z_a}{1-z_a} = \\log\\frac{1+z_b}{1-z_b} + \\log \\left ( \\frac{(1+z_o)(1-z_b)}{(1-z_o)(1+z_b)} \\right )^K \\\\\n",
    "     \\log\\frac{1+z_a}{1-z_a} = \\log\\frac{(1+z_b)(1+z_o)^K(1-z_b)^K}{(1-z_b)(1-z_o)^K(1+z_b)^K} \\\\\n",
    "     \\log\\frac{1+z_a}{1-z_a} = \\log\\frac{(1+z_b)^{1-K}(1+z_o)^K}{(1-z_b)^{1-K}(1-z_o)^K} \\\\\n",
    "     \\frac{1+z_a}{1-z_a} = \\frac{(1+z_b)^{1-K}(1+z_o)^K}{(1-z_b)^{1-K}(1-z_o)^K} \\\\\n",
    "     \\left(1+\\frac{(1+z_b)^{1-K}(1+z_o)^K}{(1-z_b)^{1-K}(1-z_o)^K} \\right) z_a = \\frac{(1+z_b)^{1-K}(1+z_o)^K}{(1-z_b)^{1-K}(1-z_o)^K} - 1 \\\\\n",
    "     \\left(\\frac{ (1+z_b)^{1-K}(1+z_o)^K + (1-z_b)^{1-K}(1-z_o)^K }{(1-z_b)^{1-K}(1-z_o)^K} \\right) z_a = \\frac{(1+z_b)^{1-K}(1+z_o)^K - (1-z_b)^{1-K}(1-z_o)^K}{(1-z_b)^{1-K}(1-z_o)^K}  \\\\\n",
    "       z_a = \\frac{ (1+z_b)^{1-K}(1+z_o)^K - (1-z_b)^{1-K}(1-z_o)^K }{(1+z_b)^{1-K}(1+z_o)^K + (1-z_b)^{1-K}(1-z_o)^K} \\\\\n",
    "$$"
   ]
  },
  {
   "cell_type": "code",
   "execution_count": null,
   "metadata": {},
   "outputs": [],
   "source": []
  }
 ],
 "metadata": {
  "kernelspec": {
   "display_name": "Python 3",
   "language": "python",
   "name": "python3"
  },
  "language_info": {
   "codemirror_mode": {
    "name": "ipython",
    "version": 3
   },
   "file_extension": ".py",
   "mimetype": "text/x-python",
   "name": "python",
   "nbconvert_exporter": "python",
   "pygments_lexer": "ipython3",
   "version": "3.7.4"
  }
 },
 "nbformat": 4,
 "nbformat_minor": 2
}
