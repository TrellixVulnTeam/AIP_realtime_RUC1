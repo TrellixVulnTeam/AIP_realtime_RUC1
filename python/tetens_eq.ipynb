{
 "cells": [
  {
   "cell_type": "code",
   "execution_count": 6,
   "metadata": {},
   "outputs": [
    {
     "name": "stdout",
     "output_type": "stream",
     "text": [
      "224.57195587628402\n",
      "224.48313520225855\n",
      "225.61986498062535\n"
     ]
    }
   ],
   "source": [
    "import numpy as np\n",
    "\n",
    "\n",
    "t  = 260 # K\n",
    "t0 = 273 # K\n",
    "\n",
    "p1 = 0.611 * np.power( 10, 7.5*(t-t0)/(t-t0+237.3)) * 1000 # Pa\n",
    "p2 = 0.61078 * np.exp( 17.27*(t-t0)/(t-t0+237.3)) * 1000 # Pa\n",
    "p3 = 6.112 * np.exp( 17.67*(t-t0)/(t-t0+243.5))*100 # Pa\n",
    "print(p1)\n",
    "print(p2)\n",
    "print(p3)"
   ]
  },
  {
   "cell_type": "code",
   "execution_count": null,
   "metadata": {},
   "outputs": [],
   "source": []
  }
 ],
 "metadata": {
  "kernelspec": {
   "display_name": "Python 3",
   "language": "python",
   "name": "python3"
  },
  "language_info": {
   "codemirror_mode": {
    "name": "ipython",
    "version": 3
   },
   "file_extension": ".py",
   "mimetype": "text/x-python",
   "name": "python",
   "nbconvert_exporter": "python",
   "pygments_lexer": "ipython3",
   "version": "3.7.4"
  }
 },
 "nbformat": 4,
 "nbformat_minor": 2
}
